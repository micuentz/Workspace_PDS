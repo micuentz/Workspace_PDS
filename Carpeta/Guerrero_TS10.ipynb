{
 "cells": [
  {
   "cell_type": "code",
   "execution_count": null,
   "id": "5a1d1d67",
   "metadata": {},
   "outputs": [],
   "source": [
    "import scipy as sp\n",
    "from scipy.interpolate import CubicSpline\n",
    "import numpy as np\n",
    "import matplotlib.pyplot as plt\n",
    "\n",
    "mat_struct = sp.io.loadmat('ECG_TP4.mat')\n",
    "ecg_one_lead = mat_struct[\"ecg_lead\"]\n",
    "fs_ecg = 1000  # Hz\n",
    "nyq = fs_ecg / 2"
   ]
  },
  {
   "cell_type": "code",
   "execution_count": null,
   "id": "477b306d",
   "metadata": {},
   "outputs": [],
   "source": [
    "# Filtrado de mediana\n",
    "\n",
    "eol_filtrado = (ecg_one_lead - sp.signal.medfilt(ecg_one_lead, 201))\n",
    "plt.figure(figsize=(24, 8))\n",
    "plt.plot(eol_contaminated_big)\n",
    "plt.plot(eolb_filtrado)\n",
    "plt.title(\"Filtrado de mediana\")\n",
    "plt.show()"
   ]
  },
  {
   "cell_type": "code",
   "execution_count": null,
   "id": "c3cce922",
   "metadata": {},
   "outputs": [],
   "source": [
    "# Filtrado\n",
    "qrs_d = mat_struct[\"qrs_detections\"]\n",
    "\n",
    "for r in qrs_d:\n",
    "    if r < 50:\n",
    "        continue\n",
    "    t = int(r - 50)\n",
    "    x.append(t)\n",
    "    y.append(ecg_data[t])\n",
    "\n",
    "# Asegurar que x_points y y_points estén ordenados\n",
    "x, y = zip(*sorted(zip(x_points, y_points)))\n",
    "\n",
    "spline = CubicSpline(x_points, y_points)\n",
    "ecg_filtrado = ecg_one_lead - spline(np.arange(len(ecg__one_lead)))\n",
    "\n",
    "# Visualizar la spline y los puntos de QRS - 50ms\n",
    "plt.plot()\n",
    "plt.plot(spline(np.arange(len(ecg_one_lead))), label=\"Interpolación cúbica\")"
   ]
  }
 ],
 "metadata": {
  "kernelspec": {
   "display_name": "Python 3 (ipykernel)",
   "language": "python",
   "name": "python3"
  },
  "language_info": {
   "codemirror_mode": {
    "name": "ipython",
    "version": 3
   },
   "file_extension": ".py",
   "mimetype": "text/x-python",
   "name": "python",
   "nbconvert_exporter": "python",
   "pygments_lexer": "ipython3",
   "version": "3.10.11"
  }
 },
 "nbformat": 4,
 "nbformat_minor": 5
}
