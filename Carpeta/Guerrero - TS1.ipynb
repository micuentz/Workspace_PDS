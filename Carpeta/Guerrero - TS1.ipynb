{
 "cells": [
  {
   "cell_type": "markdown",
   "id": "2f21df11",
   "metadata": {},
   "source": [
    "<img src=\"./logo_UTN.svg\" align=\"right\" width=\"150\" /> \n",
    "\n",
    "# Tarea Semanal Nº1\n",
    "#### Procesamiento Digital de Señales\n",
    "#### Tobías Guerrero\n"
   ]
  },
  {
   "cell_type": "markdown",
   "id": "c05ca8ac",
   "metadata": {},
   "source": [
    "## 1. Introducción\n",
    "\n",
    "En este primer trabajo semanal se propone diseñar un generador de señales que se utilizará en las primeras simulaciones. \n",
    "\n",
    "La tarea consistirá en programar una función que genere señales senoidales y que permita parametrizar:\n",
    "\n",
    "- La amplitud máxima de la senoidal vmax (volts)\n",
    "- Su valor medio dc (volts)\n",
    "- La frecuencia f (Hz)\n",
    "- La fase phi (radianes)\n",
    "- La cantidad de muestras digitalizada por el ADC N (# muestras)\n",
    "- La frecuencia de muestreo del ADC fs.\n",
    "\n",
    "La función debe admitir ser llamada de la siguiente manera:\n",
    "\n",
    "$\\textit{tt, xx = mi_funcion_sen( vmax = 1, dc = 0, ff = 1, ph=0, nn = N, fs = fs)}$"
   ]
  },
  {
   "cell_type": "markdown",
   "id": "a072eac8",
   "metadata": {},
   "source": [
    "## 2. Desarrollo de la función"
   ]
  }
 ],
 "metadata": {
  "kernelspec": {
   "display_name": "Python 3 (ipykernel)",
   "language": "python",
   "name": "python3"
  },
  "language_info": {
   "codemirror_mode": {
    "name": "ipython",
    "version": 3
   },
   "file_extension": ".py",
   "mimetype": "text/x-python",
   "name": "python",
   "nbconvert_exporter": "python",
   "pygments_lexer": "ipython3",
   "version": "3.10.10"
  }
 },
 "nbformat": 4,
 "nbformat_minor": 5
}
